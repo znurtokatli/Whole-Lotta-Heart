{
 "cells": [
  {
   "cell_type": "code",
   "execution_count": null,
   "metadata": {},
   "outputs": [],
   "source": [
    "# Update sklearn to prevent version mismatches\n",
    "!conda install scikit-learn\n",
    "!conda update scikit-learn\n",
    "!conda install joblib \n",
    "!conda update joblib "
   ]
  },
  {
   "cell_type": "code",
   "execution_count": 1,
   "metadata": {},
   "outputs": [],
   "source": [
    "import pandas as pd"
   ]
  },
  {
   "cell_type": "markdown",
   "metadata": {},
   "source": [
    "# Read the CSV and Perform Basic Data Cleaning"
   ]
  },
  {
   "cell_type": "code",
   "execution_count": 4,
   "metadata": {},
   "outputs": [
    {
     "data": {
      "text/html": [
       "<div>\n",
       "<style scoped>\n",
       "    .dataframe tbody tr th:only-of-type {\n",
       "        vertical-align: middle;\n",
       "    }\n",
       "\n",
       "    .dataframe tbody tr th {\n",
       "        vertical-align: top;\n",
       "    }\n",
       "\n",
       "    .dataframe thead th {\n",
       "        text-align: right;\n",
       "    }\n",
       "</style>\n",
       "<table border=\"1\" class=\"dataframe\">\n",
       "  <thead>\n",
       "    <tr style=\"text-align: right;\">\n",
       "      <th></th>\n",
       "      <th>age</th>\n",
       "      <th>sex</th>\n",
       "      <th>chest_pain_type</th>\n",
       "      <th>resting_blood_pressure</th>\n",
       "      <th>cholesterol</th>\n",
       "      <th>fasting_blood_sugar</th>\n",
       "      <th>resting_ecg</th>\n",
       "      <th>max_heart_rate</th>\n",
       "      <th>exercise_angina</th>\n",
       "      <th>old_peak</th>\n",
       "      <th>slope</th>\n",
       "      <th>number_major_vessels</th>\n",
       "      <th>thalassemia</th>\n",
       "      <th>diagnosis</th>\n",
       "    </tr>\n",
       "  </thead>\n",
       "  <tbody>\n",
       "    <tr>\n",
       "      <th>0</th>\n",
       "      <td>63</td>\n",
       "      <td>1</td>\n",
       "      <td>3</td>\n",
       "      <td>145</td>\n",
       "      <td>233</td>\n",
       "      <td>1</td>\n",
       "      <td>0</td>\n",
       "      <td>150</td>\n",
       "      <td>0</td>\n",
       "      <td>2.3</td>\n",
       "      <td>0</td>\n",
       "      <td>0</td>\n",
       "      <td>1</td>\n",
       "      <td>1</td>\n",
       "    </tr>\n",
       "    <tr>\n",
       "      <th>1</th>\n",
       "      <td>37</td>\n",
       "      <td>1</td>\n",
       "      <td>2</td>\n",
       "      <td>130</td>\n",
       "      <td>250</td>\n",
       "      <td>0</td>\n",
       "      <td>1</td>\n",
       "      <td>187</td>\n",
       "      <td>0</td>\n",
       "      <td>3.5</td>\n",
       "      <td>0</td>\n",
       "      <td>0</td>\n",
       "      <td>2</td>\n",
       "      <td>1</td>\n",
       "    </tr>\n",
       "    <tr>\n",
       "      <th>2</th>\n",
       "      <td>41</td>\n",
       "      <td>0</td>\n",
       "      <td>1</td>\n",
       "      <td>130</td>\n",
       "      <td>204</td>\n",
       "      <td>0</td>\n",
       "      <td>0</td>\n",
       "      <td>172</td>\n",
       "      <td>0</td>\n",
       "      <td>1.4</td>\n",
       "      <td>2</td>\n",
       "      <td>0</td>\n",
       "      <td>2</td>\n",
       "      <td>1</td>\n",
       "    </tr>\n",
       "    <tr>\n",
       "      <th>3</th>\n",
       "      <td>56</td>\n",
       "      <td>1</td>\n",
       "      <td>1</td>\n",
       "      <td>120</td>\n",
       "      <td>236</td>\n",
       "      <td>0</td>\n",
       "      <td>1</td>\n",
       "      <td>178</td>\n",
       "      <td>0</td>\n",
       "      <td>0.8</td>\n",
       "      <td>2</td>\n",
       "      <td>0</td>\n",
       "      <td>2</td>\n",
       "      <td>1</td>\n",
       "    </tr>\n",
       "    <tr>\n",
       "      <th>4</th>\n",
       "      <td>57</td>\n",
       "      <td>0</td>\n",
       "      <td>0</td>\n",
       "      <td>120</td>\n",
       "      <td>354</td>\n",
       "      <td>0</td>\n",
       "      <td>1</td>\n",
       "      <td>163</td>\n",
       "      <td>1</td>\n",
       "      <td>0.6</td>\n",
       "      <td>2</td>\n",
       "      <td>0</td>\n",
       "      <td>2</td>\n",
       "      <td>1</td>\n",
       "    </tr>\n",
       "  </tbody>\n",
       "</table>\n",
       "</div>"
      ],
      "text/plain": [
       "   age  sex  chest_pain_type  resting_blood_pressure  cholesterol  \\\n",
       "0   63    1                3                     145          233   \n",
       "1   37    1                2                     130          250   \n",
       "2   41    0                1                     130          204   \n",
       "3   56    1                1                     120          236   \n",
       "4   57    0                0                     120          354   \n",
       "\n",
       "   fasting_blood_sugar  resting_ecg  max_heart_rate  exercise_angina  \\\n",
       "0                    1            0             150                0   \n",
       "1                    0            1             187                0   \n",
       "2                    0            0             172                0   \n",
       "3                    0            1             178                0   \n",
       "4                    0            1             163                1   \n",
       "\n",
       "   old_peak  slope  number_major_vessels  thalassemia  diagnosis  \n",
       "0       2.3      0                     0            1          1  \n",
       "1       3.5      0                     0            2          1  \n",
       "2       1.4      2                     0            2          1  \n",
       "3       0.8      2                     0            2          1  \n",
       "4       0.6      2                     0            2          1  "
      ]
     },
     "execution_count": 4,
     "metadata": {},
     "output_type": "execute_result"
    }
   ],
   "source": [
    "heart_df = pd.read_csv(\"../Data/heart_clean.csv\")\n",
    "# Drop the null columns where all values are null\n",
    "heart_df = heart_df.dropna(axis='columns', how='all')\n",
    "# Drop the null rows\n",
    "heart_df = heart_df.dropna()\n",
    "heart_df.head()"
   ]
  },
  {
   "cell_type": "markdown",
   "metadata": {},
   "source": [
    "# Create a Train Test Split\n",
    " "
   ]
  },
  {
   "cell_type": "code",
   "execution_count": 7,
   "metadata": {},
   "outputs": [],
   "source": [
    "from sklearn.model_selection import train_test_split\n",
    "\n",
    "X = heart_df.drop(columns=[\"diagnosis\"])\n",
    "y = heart_df[\"diagnosis\"]\n",
    "\n",
    "X_train, X_test, y_train, y_test = train_test_split(X, y, random_state=1, stratify=y)"
   ]
  },
  {
   "cell_type": "markdown",
   "metadata": {},
   "source": [
    "# Pre-processing\n",
    "\n",
    "Scale the data using the MinMaxScaler"
   ]
  },
  {
   "cell_type": "code",
   "execution_count": 8,
   "metadata": {},
   "outputs": [],
   "source": [
    "from sklearn.preprocessing import MinMaxScaler\n",
    "X_scaler = MinMaxScaler().fit(X_train)\n",
    "\n",
    "X_train_scaled = X_scaler.transform(X_train)\n",
    "X_test_scaled = X_scaler.transform(X_test)"
   ]
  },
  {
   "cell_type": "markdown",
   "metadata": {
    "slideshow": {
     "slide_type": "slide"
    }
   },
   "source": [
    "# Train the Model"
   ]
  },
  {
   "cell_type": "code",
   "execution_count": 9,
   "metadata": {
    "slideshow": {
     "slide_type": "subslide"
    }
   },
   "outputs": [
    {
     "data": {
      "text/plain": [
       "SVC(kernel='linear')"
      ]
     },
     "execution_count": 9,
     "metadata": {},
     "output_type": "execute_result"
    }
   ],
   "source": [
    "# Support vector machine linear classifier\n",
    "from sklearn.svm import SVC \n",
    "model2 = SVC(kernel='linear')\n",
    "model2.fit(X_train_scaled, y_train)"
   ]
  },
  {
   "cell_type": "code",
   "execution_count": 10,
   "metadata": {
    "slideshow": {
     "slide_type": "slide"
    }
   },
   "outputs": [
    {
     "name": "stdout",
     "output_type": "stream",
     "text": [
      "Training Data Score: 0.8370044052863436\n",
      "Testing Data Score: 0.8289473684210527\n"
     ]
    }
   ],
   "source": [
    "print(f\"Training Data Score: {model2.score(X_train_scaled, y_train)}\")\n",
    "print(f\"Testing Data Score: {model2.score(X_test_scaled, y_test)}\")"
   ]
  },
  {
   "cell_type": "markdown",
   "metadata": {
    "slideshow": {
     "slide_type": "slide"
    }
   },
   "source": [
    "# Hyperparameter Tuning\n",
    "\n",
    "Use `GridSearchCV` to tune model's parameters"
   ]
  },
  {
   "cell_type": "code",
   "execution_count": 11,
   "metadata": {
    "slideshow": {
     "slide_type": "subslide"
    }
   },
   "outputs": [],
   "source": [
    "from sklearn.model_selection import GridSearchCV\n",
    "param_grid = {'C': [1, 5, 10],\n",
    "              'gamma': [0.0001, 0.001, 0.01]}\n",
    "grid = GridSearchCV(model2, param_grid, verbose=3)"
   ]
  },
  {
   "cell_type": "code",
   "execution_count": 12,
   "metadata": {
    "slideshow": {
     "slide_type": "subslide"
    }
   },
   "outputs": [
    {
     "name": "stdout",
     "output_type": "stream",
     "text": [
      "Fitting 5 folds for each of 9 candidates, totalling 45 fits\n",
      "[CV 1/5] END .................C=1, gamma=0.0001;, score=0.717 total time=   0.0s\n",
      "[CV 2/5] END .................C=1, gamma=0.0001;, score=0.717 total time=   0.0s\n",
      "[CV 3/5] END .................C=1, gamma=0.0001;, score=0.889 total time=   0.0s\n",
      "[CV 4/5] END .................C=1, gamma=0.0001;, score=0.844 total time=   0.0s\n",
      "[CV 5/5] END .................C=1, gamma=0.0001;, score=0.867 total time=   0.0s\n",
      "[CV 1/5] END ..................C=1, gamma=0.001;, score=0.717 total time=   0.0s\n",
      "[CV 2/5] END ..................C=1, gamma=0.001;, score=0.717 total time=   0.0s\n",
      "[CV 3/5] END ..................C=1, gamma=0.001;, score=0.889 total time=   0.0s\n",
      "[CV 4/5] END ..................C=1, gamma=0.001;, score=0.844 total time=   0.0s\n",
      "[CV 5/5] END ..................C=1, gamma=0.001;, score=0.867 total time=   0.0s\n",
      "[CV 1/5] END ...................C=1, gamma=0.01;, score=0.717 total time=   0.0s\n",
      "[CV 2/5] END ...................C=1, gamma=0.01;, score=0.717 total time=   0.0s\n",
      "[CV 3/5] END ...................C=1, gamma=0.01;, score=0.889 total time=   0.0s\n",
      "[CV 4/5] END ...................C=1, gamma=0.01;, score=0.844 total time=   0.0s\n",
      "[CV 5/5] END ...................C=1, gamma=0.01;, score=0.867 total time=   0.0s\n",
      "[CV 1/5] END .................C=5, gamma=0.0001;, score=0.717 total time=   0.0s\n",
      "[CV 2/5] END .................C=5, gamma=0.0001;, score=0.783 total time=   0.0s\n",
      "[CV 3/5] END .................C=5, gamma=0.0001;, score=0.867 total time=   0.0s\n",
      "[CV 4/5] END .................C=5, gamma=0.0001;, score=0.844 total time=   0.0s\n",
      "[CV 5/5] END .................C=5, gamma=0.0001;, score=0.867 total time=   0.0s\n",
      "[CV 1/5] END ..................C=5, gamma=0.001;, score=0.717 total time=   0.0s\n",
      "[CV 2/5] END ..................C=5, gamma=0.001;, score=0.783 total time=   0.0s\n",
      "[CV 3/5] END ..................C=5, gamma=0.001;, score=0.867 total time=   0.0s\n",
      "[CV 4/5] END ..................C=5, gamma=0.001;, score=0.844 total time=   0.0s\n",
      "[CV 5/5] END ..................C=5, gamma=0.001;, score=0.867 total time=   0.0s\n",
      "[CV 1/5] END ...................C=5, gamma=0.01;, score=0.717 total time=   0.0s\n",
      "[CV 2/5] END ...................C=5, gamma=0.01;, score=0.783 total time=   0.0s\n",
      "[CV 3/5] END ...................C=5, gamma=0.01;, score=0.867 total time=   0.0s\n",
      "[CV 4/5] END ...................C=5, gamma=0.01;, score=0.844 total time=   0.0s\n",
      "[CV 5/5] END ...................C=5, gamma=0.01;, score=0.867 total time=   0.0s\n",
      "[CV 1/5] END ................C=10, gamma=0.0001;, score=0.739 total time=   0.0s\n",
      "[CV 2/5] END ................C=10, gamma=0.0001;, score=0.717 total time=   0.0s\n",
      "[CV 3/5] END ................C=10, gamma=0.0001;, score=0.867 total time=   0.0s\n",
      "[CV 4/5] END ................C=10, gamma=0.0001;, score=0.889 total time=   0.0s\n",
      "[CV 5/5] END ................C=10, gamma=0.0001;, score=0.844 total time=   0.0s\n",
      "[CV 1/5] END .................C=10, gamma=0.001;, score=0.739 total time=   0.0s\n",
      "[CV 2/5] END .................C=10, gamma=0.001;, score=0.717 total time=   0.0s\n",
      "[CV 3/5] END .................C=10, gamma=0.001;, score=0.867 total time=   0.0s\n",
      "[CV 4/5] END .................C=10, gamma=0.001;, score=0.889 total time=   0.0s\n",
      "[CV 5/5] END .................C=10, gamma=0.001;, score=0.844 total time=   0.0s\n",
      "[CV 1/5] END ..................C=10, gamma=0.01;, score=0.739 total time=   0.0s\n",
      "[CV 2/5] END ..................C=10, gamma=0.01;, score=0.717 total time=   0.0s\n",
      "[CV 3/5] END ..................C=10, gamma=0.01;, score=0.867 total time=   0.0s\n",
      "[CV 4/5] END ..................C=10, gamma=0.01;, score=0.889 total time=   0.0s\n",
      "[CV 5/5] END ..................C=10, gamma=0.01;, score=0.844 total time=   0.0s\n"
     ]
    },
    {
     "data": {
      "text/plain": [
       "GridSearchCV(estimator=SVC(kernel='linear'),\n",
       "             param_grid={'C': [1, 5, 10], 'gamma': [0.0001, 0.001, 0.01]},\n",
       "             verbose=3)"
      ]
     },
     "execution_count": 12,
     "metadata": {},
     "output_type": "execute_result"
    }
   ],
   "source": [
    "grid.fit(X_train_scaled, y_train)\n"
   ]
  },
  {
   "cell_type": "code",
   "execution_count": 13,
   "metadata": {
    "slideshow": {
     "slide_type": "slide"
    }
   },
   "outputs": [
    {
     "name": "stdout",
     "output_type": "stream",
     "text": [
      "{'C': 5, 'gamma': 0.0001}\n",
      "0.8155555555555555\n"
     ]
    }
   ],
   "source": [
    "print(grid.best_params_)\n",
    "print(grid.best_score_)"
   ]
  },
  {
   "cell_type": "markdown",
   "metadata": {},
   "source": [
    "# Save the Model"
   ]
  },
  {
   "cell_type": "code",
   "execution_count": 14,
   "metadata": {},
   "outputs": [
    {
     "data": {
      "text/plain": [
       "['svm.sav']"
      ]
     },
     "execution_count": 14,
     "metadata": {},
     "output_type": "execute_result"
    }
   ],
   "source": [
    "# save the fitted model to file\n",
    "import joblib\n",
    "filename = 'svm.sav'\n",
    "joblib.dump(grid, filename)"
   ]
  },
  {
   "cell_type": "code",
   "execution_count": null,
   "metadata": {},
   "outputs": [],
   "source": []
  }
 ],
 "metadata": {
  "celltoolbar": "Slideshow",
  "kernelspec": {
   "display_name": "Python 3",
   "language": "python",
   "name": "python3"
  },
  "language_info": {
   "codemirror_mode": {
    "name": "ipython",
    "version": 3
   },
   "file_extension": ".py",
   "mimetype": "text/x-python",
   "name": "python",
   "nbconvert_exporter": "python",
   "pygments_lexer": "ipython3",
   "version": "3.8.5"
  }
 },
 "nbformat": 4,
 "nbformat_minor": 2
}
