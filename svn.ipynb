{
  "nbformat": 4,
  "nbformat_minor": 0,
  "metadata": {
    "colab": {
      "name": "Copy of Untitled2.ipynb",
      "provenance": [],
      "collapsed_sections": [],
      "authorship_tag": "ABX9TyNIz4rRwdHSH7sQzaPpAlrb",
      "include_colab_link": true
    },
    "kernelspec": {
      "name": "python3",
      "display_name": "Python 3"
    },
    "language_info": {
      "name": "python"
    }
  },
  "cells": [
    {
      "cell_type": "markdown",
      "metadata": {
        "id": "view-in-github",
        "colab_type": "text"
      },
      "source": [
        "<a href=\"https://colab.research.google.com/github/znurtokatli/final-project/blob/zehra/svn.ipynb\" target=\"_parent\"><img src=\"https://colab.research.google.com/assets/colab-badge.svg\" alt=\"Open In Colab\"/></a>"
      ]
    },
    {
      "cell_type": "code",
      "metadata": {
        "id": "C03R36JXrS_0",
        "colab": {
          "base_uri": "https://localhost:8080/"
        },
        "outputId": "62cf227e-24b3-411d-8fca-4d8b361c5dc2"
      },
      "source": [
        "import os \n",
        "spark_version = 'spark-3.0.2'\n",
        "os.environ['SPARK_VERSION']=spark_version\n",
        "\n",
        "# Install Spark and Java\n",
        "!apt-get update\n",
        "!apt-get install openjdk-11-jdk-headless -qq > /dev/null\n",
        "!wget -q http://www-us.apache.org/dist/spark/$SPARK_VERSION/$SPARK_VERSION-bin-hadoop2.7.tgz\n",
        "!tar xf $SPARK_VERSION-bin-hadoop2.7.tgz\n",
        "!pip install -q findspark\n",
        "\n",
        "# Set Environment Variables\n",
        "os.environ[\"JAVA_HOME\"] = \"/usr/lib/jvm/java-11-openjdk-amd64\"\n",
        "os.environ[\"SPARK_HOME\"] = f\"/content/{spark_version}-bin-hadoop2.7\"\n",
        "\n",
        "# Start a SparkSession\n",
        "import findspark\n",
        "findspark.init()"
      ],
      "execution_count": null,
      "outputs": [
        {
          "output_type": "stream",
          "text": [
            "\r0% [Working]\r            \rGet:1 http://security.ubuntu.com/ubuntu bionic-security InRelease [88.7 kB]\n",
            "\r0% [Connecting to archive.ubuntu.com (91.189.88.142)] [1 InRelease 14.2 kB/88.7\r                                                                               \rGet:2 https://cloud.r-project.org/bin/linux/ubuntu bionic-cran40/ InRelease [3,626 B]\n",
            "\r0% [Connecting to archive.ubuntu.com (91.189.88.142)] [1 InRelease 46.0 kB/88.7\r0% [Connecting to archive.ubuntu.com (91.189.88.142)] [1 InRelease 88.7 kB/88.7\r0% [Connecting to archive.ubuntu.com (91.189.88.142)] [Connecting to ppa.launch\r0% [2 InRelease gpgv 3,626 B] [Waiting for headers] [Connecting to ppa.launchpa\r                                                                               \rIgn:3 https://developer.download.nvidia.com/compute/cuda/repos/ubuntu1804/x86_64  InRelease\n",
            "Hit:4 http://archive.ubuntu.com/ubuntu bionic InRelease\n",
            "Ign:5 https://developer.download.nvidia.com/compute/machine-learning/repos/ubuntu1804/x86_64  InRelease\n",
            "Get:6 https://developer.download.nvidia.com/compute/cuda/repos/ubuntu1804/x86_64  Release [697 B]\n",
            "Hit:7 https://developer.download.nvidia.com/compute/machine-learning/repos/ubuntu1804/x86_64  Release\n",
            "Get:8 https://developer.download.nvidia.com/compute/cuda/repos/ubuntu1804/x86_64  Release.gpg [836 B]\n",
            "Get:9 http://ppa.launchpad.net/c2d4u.team/c2d4u4.0+/ubuntu bionic InRelease [15.9 kB]\n",
            "Get:10 http://archive.ubuntu.com/ubuntu bionic-updates InRelease [88.7 kB]\n",
            "Get:11 https://cloud.r-project.org/bin/linux/ubuntu bionic-cran40/ Packages [60.9 kB]\n",
            "Hit:12 http://ppa.launchpad.net/cran/libgit2/ubuntu bionic InRelease\n",
            "Get:13 http://archive.ubuntu.com/ubuntu bionic-backports InRelease [74.6 kB]\n",
            "Hit:14 http://ppa.launchpad.net/deadsnakes/ppa/ubuntu bionic InRelease\n",
            "Get:15 http://security.ubuntu.com/ubuntu bionic-security/restricted amd64 Packages [423 kB]\n",
            "Get:16 http://security.ubuntu.com/ubuntu bionic-security/main amd64 Packages [2,152 kB]\n",
            "Get:17 http://ppa.launchpad.net/graphics-drivers/ppa/ubuntu bionic InRelease [21.3 kB]\n",
            "Get:18 http://security.ubuntu.com/ubuntu bionic-security/universe amd64 Packages [1,413 kB]\n",
            "Ign:20 https://developer.download.nvidia.com/compute/cuda/repos/ubuntu1804/x86_64  Packages\n",
            "Get:20 https://developer.download.nvidia.com/compute/cuda/repos/ubuntu1804/x86_64  Packages [798 kB]\n",
            "Get:21 http://ppa.launchpad.net/c2d4u.team/c2d4u4.0+/ubuntu bionic/main Sources [1,770 kB]\n",
            "Get:22 http://archive.ubuntu.com/ubuntu bionic-updates/restricted amd64 Packages [452 kB]\n",
            "Get:23 http://archive.ubuntu.com/ubuntu bionic-updates/universe amd64 Packages [2,184 kB]\n",
            "Get:24 http://archive.ubuntu.com/ubuntu bionic-updates/main amd64 Packages [2,584 kB]\n",
            "Get:25 http://ppa.launchpad.net/c2d4u.team/c2d4u4.0+/ubuntu bionic/main amd64 Packages [906 kB]\n",
            "Get:26 http://ppa.launchpad.net/graphics-drivers/ppa/ubuntu bionic/main amd64 Packages [41.5 kB]\n",
            "Fetched 13.1 MB in 4s (3,133 kB/s)\n",
            "Reading package lists... Done\n"
          ],
          "name": "stdout"
        }
      ]
    },
    {
      "cell_type": "code",
      "metadata": {
        "colab": {
          "base_uri": "https://localhost:8080/"
        },
        "id": "PFkn1EPjri0j",
        "outputId": "9a64462c-ad6c-4292-f19e-eb012b938db9"
      },
      "source": [
        "!wget https://jdbc.postgresql.org/download/postgresql-42.2.9.jar"
      ],
      "execution_count": null,
      "outputs": [
        {
          "output_type": "stream",
          "text": [
            "--2021-05-31 23:46:24--  https://jdbc.postgresql.org/download/postgresql-42.2.9.jar\n",
            "Resolving jdbc.postgresql.org (jdbc.postgresql.org)... 72.32.157.228, 2001:4800:3e1:1::228\n",
            "Connecting to jdbc.postgresql.org (jdbc.postgresql.org)|72.32.157.228|:443... connected.\n",
            "HTTP request sent, awaiting response... 200 OK\n",
            "Length: 914037 (893K) [application/java-archive]\n",
            "Saving to: ‘postgresql-42.2.9.jar’\n",
            "\n",
            "postgresql-42.2.9.j 100%[===================>] 892.61K  5.34MB/s    in 0.2s    \n",
            "\n",
            "2021-05-31 23:46:24 (5.34 MB/s) - ‘postgresql-42.2.9.jar’ saved [914037/914037]\n",
            "\n"
          ],
          "name": "stdout"
        }
      ]
    },
    {
      "cell_type": "code",
      "metadata": {
        "id": "XHs7pDavxs_0"
      },
      "source": [
        "data_url = \"https://uncc-datavizbc-finalproject-data.s3.us-east-2.amazonaws.com/Data/\""
      ],
      "execution_count": null,
      "outputs": []
    },
    {
      "cell_type": "code",
      "metadata": {
        "id": "zEvwAX0JrjdB"
      },
      "source": [
        "from pyspark.sql import SparkSession\n",
        "spark = SparkSession.builder.appName(\"CloudETL\").config(\"spark.driver.extraClassPath\",\"/content/postgresql-42.2.9.jar\").getOrCreate()\n",
        "\n",
        "from pyspark import SparkFiles"
      ],
      "execution_count": null,
      "outputs": []
    },
    {
      "cell_type": "code",
      "metadata": {
        "colab": {
          "base_uri": "https://localhost:8080/"
        },
        "id": "3h8LIbGurmA_",
        "outputId": "bf788dbb-812d-4543-c705-76e24dbcb8b4"
      },
      "source": [
        "# Load in heart_clean.csv \n",
        "url = data_url + \"heart_clean.csv\"\n",
        "spark.sparkContext.addFile(url)\n",
        "\n",
        "heart_df = spark.read.option('header', 'true').csv(SparkFiles.get(\"heart_clean.csv\"), inferSchema=True, sep=',', timestampFormat=\"m/dd/yy\")\n",
        "heart_df.show(10)"
      ],
      "execution_count": null,
      "outputs": [
        {
          "output_type": "stream",
          "text": [
            "+---+---+---+------+----+---+-------+--------+----+-------+---+---+-----+------+\n",
            "|age|sex| cp|trtbps|chol|fbs|restecg|thalachh|exng|oldpeak|slp|caa|thall|output|\n",
            "+---+---+---+------+----+---+-------+--------+----+-------+---+---+-----+------+\n",
            "| 63|  1|  3|   145| 233|  1|      0|     150|   0|    2.3|  0|  0|    1|     1|\n",
            "| 37|  1|  2|   130| 250|  0|      1|     187|   0|    3.5|  0|  0|    2|     1|\n",
            "| 41|  0|  1|   130| 204|  0|      0|     172|   0|    1.4|  2|  0|    2|     1|\n",
            "| 56|  1|  1|   120| 236|  0|      1|     178|   0|    0.8|  2|  0|    2|     1|\n",
            "| 57|  0|  0|   120| 354|  0|      1|     163|   1|    0.6|  2|  0|    2|     1|\n",
            "| 57|  1|  0|   140| 192|  0|      1|     148|   0|    0.4|  1|  0|    1|     1|\n",
            "| 56|  0|  1|   140| 294|  0|      0|     153|   0|    1.3|  1|  0|    2|     1|\n",
            "| 44|  1|  1|   120| 263|  0|      1|     173|   0|    0.0|  2|  0|    3|     1|\n",
            "| 52|  1|  2|   172| 199|  1|      1|     162|   0|    0.5|  2|  0|    3|     1|\n",
            "| 57|  1|  2|   150| 168|  0|      1|     174|   0|    1.6|  2|  0|    2|     1|\n",
            "+---+---+---+------+----+---+-------+--------+----+-------+---+---+-----+------+\n",
            "only showing top 10 rows\n",
            "\n"
          ],
          "name": "stdout"
        }
      ]
    },
    {
      "cell_type": "code",
      "metadata": {
        "colab": {
          "base_uri": "https://localhost:8080/"
        },
        "id": "HzSFB49e6U_n",
        "outputId": "27d13934-af0c-4533-a8b4-990721991921"
      },
      "source": [
        "heart_df.printSchema()"
      ],
      "execution_count": null,
      "outputs": [
        {
          "output_type": "stream",
          "text": [
            "root\n",
            " |-- age: integer (nullable = true)\n",
            " |-- sex: integer (nullable = true)\n",
            " |-- cp: integer (nullable = true)\n",
            " |-- trtbps: integer (nullable = true)\n",
            " |-- chol: integer (nullable = true)\n",
            " |-- fbs: integer (nullable = true)\n",
            " |-- restecg: integer (nullable = true)\n",
            " |-- thalachh: integer (nullable = true)\n",
            " |-- exng: integer (nullable = true)\n",
            " |-- oldpeak: double (nullable = true)\n",
            " |-- slp: integer (nullable = true)\n",
            " |-- caa: integer (nullable = true)\n",
            " |-- thall: integer (nullable = true)\n",
            " |-- output: integer (nullable = true)\n",
            "\n"
          ],
          "name": "stdout"
        }
      ]
    },
    {
      "cell_type": "code",
      "metadata": {
        "colab": {
          "base_uri": "https://localhost:8080/"
        },
        "id": "yTWsTS6SxNSJ",
        "outputId": "edee0d6a-3d68-4370-9a45-1855fb9dd84c"
      },
      "source": [
        "# Load in stroke_clean.csv \n",
        "url = data_url + \"stroke_clean.csv\" \n",
        "spark.sparkContext.addFile(url)\n",
        "\n",
        "stroke_df = spark.read.option('header', 'true').csv(SparkFiles.get(\"stroke_clean.csv\"), inferSchema=True, sep=',', timestampFormat=\"m/dd/yy\")\n",
        "stroke_df.show(10)"
      ],
      "execution_count": null,
      "outputs": [
        {
          "output_type": "stream",
          "text": [
            "+-----+------+----+------------+-------------+------------+---------+--------------+-----------------+----+--------------+------+\n",
            "|   id|gender| age|hypertension|heart_disease|ever_married|work_type|Residence_type|avg_glucose_level| bmi|smoking_status|stroke|\n",
            "+-----+------+----+------------+-------------+------------+---------+--------------+-----------------+----+--------------+------+\n",
            "| 9046|     1|67.0|           0|            1|           1|        1|             1|           228.69|36.6|             0|     1|\n",
            "|51676|     0|61.0|           0|            0|           1|        2|             0|           202.21|null|             1|     1|\n",
            "|31112|     1|80.0|           0|            1|           1|        1|             0|           105.92|32.5|             1|     1|\n",
            "|60182|     0|49.0|           0|            0|           1|        1|             1|           171.23|34.4|             2|     1|\n",
            "| 1665|     0|79.0|           1|            0|           1|        2|             0|           174.12|24.0|             1|     1|\n",
            "|56669|     1|81.0|           0|            0|           1|        1|             1|           186.21|29.0|             0|     1|\n",
            "|53882|     1|74.0|           1|            1|           1|        1|             0|            70.09|27.4|             1|     1|\n",
            "|10434|     0|69.0|           0|            0|           0|        1|             1|            94.39|22.8|             1|     1|\n",
            "|27419|     0|59.0|           0|            0|           1|        1|             0|            76.15|null|             3|     1|\n",
            "|60491|     0|78.0|           0|            0|           1|        1|             1|            58.57|24.2|             3|     1|\n",
            "+-----+------+----+------------+-------------+------------+---------+--------------+-----------------+----+--------------+------+\n",
            "only showing top 10 rows\n",
            "\n"
          ],
          "name": "stdout"
        }
      ]
    },
    {
      "cell_type": "code",
      "metadata": {
        "colab": {
          "base_uri": "https://localhost:8080/"
        },
        "id": "C_0SFFIn6hOg",
        "outputId": "ff9dc4e8-8e4b-4651-fb4e-00b11e10b5d4"
      },
      "source": [
        "stroke_df.printSchema()"
      ],
      "execution_count": null,
      "outputs": [
        {
          "output_type": "stream",
          "text": [
            "root\n",
            " |-- id: integer (nullable = true)\n",
            " |-- gender: string (nullable = true)\n",
            " |-- age: double (nullable = true)\n",
            " |-- hypertension: integer (nullable = true)\n",
            " |-- heart_disease: integer (nullable = true)\n",
            " |-- ever_married: integer (nullable = true)\n",
            " |-- work_type: string (nullable = true)\n",
            " |-- Residence_type: integer (nullable = true)\n",
            " |-- avg_glucose_level: double (nullable = true)\n",
            " |-- bmi: double (nullable = true)\n",
            " |-- smoking_status: integer (nullable = true)\n",
            " |-- stroke: integer (nullable = true)\n",
            "\n"
          ],
          "name": "stdout"
        }
      ]
    },
    {
      "cell_type": "code",
      "metadata": {
        "colab": {
          "base_uri": "https://localhost:8080/"
        },
        "id": "DrxyYdXJxNcw",
        "outputId": "0a170137-3745-476e-8fbd-d525dc6ee9f3"
      },
      "source": [
        "# Load in insurance_clean.csv \n",
        "url = data_url + \"insurance_clean.csv\" \n",
        "spark.sparkContext.addFile(url)\n",
        "\n",
        "insurance_df = spark.read.option('header', 'true').csv(SparkFiles.get(\"insurance_clean.csv\"), inferSchema=True, sep=',', timestampFormat=\"m/dd/yy\")\n",
        "insurance_df.show(10)"
      ],
      "execution_count": null,
      "outputs": [
        {
          "output_type": "stream",
          "text": [
            "+---+---+------+--------+------+------------------+\n",
            "|age|sex|   bmi|children|smoker|           charges|\n",
            "+---+---+------+--------+------+------------------+\n",
            "| 19|  0|  27.9|       0|     1|         16884.924|\n",
            "| 18|  1| 33.77|       1|     0|         1725.5523|\n",
            "| 28|  1|  33.0|       3|     0|          4449.462|\n",
            "| 33|  1|22.705|       0|     0|       21984.47061|\n",
            "| 32|  1| 28.88|       0|     0|         3866.8552|\n",
            "| 31|  0| 25.74|       0|     0|         3756.6216|\n",
            "| 46|  0| 33.44|       1|     0|         8240.5896|\n",
            "| 37|  0| 27.74|       3|     0|         7281.5056|\n",
            "| 37|  1| 29.83|       2|     0|         6406.4107|\n",
            "| 60|  0| 25.84|       0|     0|28923.136919999997|\n",
            "+---+---+------+--------+------+------------------+\n",
            "only showing top 10 rows\n",
            "\n"
          ],
          "name": "stdout"
        }
      ]
    },
    {
      "cell_type": "code",
      "metadata": {
        "colab": {
          "base_uri": "https://localhost:8080/"
        },
        "id": "7JK1sln_6rgp",
        "outputId": "7de53e5f-7f8e-4ac7-b90a-5c0adc201425"
      },
      "source": [
        "insurance_df.printSchema()"
      ],
      "execution_count": null,
      "outputs": [
        {
          "output_type": "stream",
          "text": [
            "root\n",
            " |-- age: integer (nullable = true)\n",
            " |-- sex: integer (nullable = true)\n",
            " |-- bmi: double (nullable = true)\n",
            " |-- children: integer (nullable = true)\n",
            " |-- smoker: integer (nullable = true)\n",
            " |-- charges: double (nullable = true)\n",
            "\n"
          ],
          "name": "stdout"
        }
      ]
    },
    {
      "cell_type": "code",
      "metadata": {
        "id": "QT2qqvXx3YUT"
      },
      "source": [
        "# Update sklearn to prevent version mismatches\n",
        "#!pip install sklearn --upgrade\n",
        "# install joblib & kernas. This will be used to save your model. \n",
        "# Restart your kernel after installing \n",
        "#!pip install joblib\n",
        "#!pip install keras.utils\n",
        "#!pip install keras.models"
      ],
      "execution_count": null,
      "outputs": []
    },
    {
      "cell_type": "code",
      "metadata": {
        "id": "WXCnEOvRrTHT"
      },
      "source": [
        ""
      ],
      "execution_count": null,
      "outputs": []
    },
    {
      "cell_type": "code",
      "metadata": {
        "id": "bdHQJxWQrTP5"
      },
      "source": [
        ""
      ],
      "execution_count": null,
      "outputs": []
    },
    {
      "cell_type": "code",
      "metadata": {
        "id": "99St9Jsv3rZV"
      },
      "source": [
        "import pandas as pd\n"
      ],
      "execution_count": null,
      "outputs": []
    }
  ]
}